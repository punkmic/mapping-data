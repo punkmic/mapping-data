{
  "nbformat": 4,
  "nbformat_minor": 0,
  "metadata": {
    "colab": {
      "provenance": [],
      "authorship_tag": "ABX9TyP4xD5ZIjMusyc+MGfKUkM6",
      "include_colab_link": true
    },
    "kernelspec": {
      "name": "python3",
      "display_name": "Python 3"
    },
    "language_info": {
      "name": "python"
    }
  },
  "cells": [
    {
      "cell_type": "markdown",
      "metadata": {
        "id": "view-in-github",
        "colab_type": "text"
      },
      "source": [
        "<a href=\"https://colab.research.google.com/github/punkmic/mapping-data/blob/main/WineRatingsEDA.ipynb\" target=\"_parent\"><img src=\"https://colab.research.google.com/assets/colab-badge.svg\" alt=\"Open In Colab\"/></a>"
      ]
    },
    {
      "cell_type": "markdown",
      "source": [
        "# **Wine Ratings**"
      ],
      "metadata": {
        "id": "MdjK0JmWhijD"
      }
    },
    {
      "cell_type": "code",
      "execution_count": 1,
      "metadata": {
        "id": "tELZb2PVeQoB"
      },
      "outputs": [],
      "source": [
        "import json"
      ]
    },
    {
      "cell_type": "code",
      "source": [
        "# load the wine ratings json file\n",
        "with open(\"wine_ratings.json\") as f:\n",
        "  loaded_json = json.load(f)\n",
        "print(loaded_json.keys())"
      ],
      "metadata": {
        "colab": {
          "base_uri": "https://localhost:8080/"
        },
        "id": "47V61yB3e3uR",
        "outputId": "9348246f-e798-4b1c-fd1a-6a352a9ba650"
      },
      "execution_count": 11,
      "outputs": [
        {
          "output_type": "stream",
          "name": "stdout",
          "text": [
            "dict_keys(['name', 'grape', 'region', 'variety', 'rating', 'notes'])\n"
          ]
        }
      ]
    },
    {
      "cell_type": "code",
      "source": [
        "# retrieve only region\n",
        "region = list(loaded_json[\"region\"].values())"
      ],
      "metadata": {
        "id": "wtmodPC3hcvY"
      },
      "execution_count": null,
      "outputs": []
    },
    {
      "cell_type": "code",
      "source": [
        "# save regions to a new file\n",
        "with open('wine_region', 'w') as f:\n",
        "    json.dump(region, f)"
      ],
      "metadata": {
        "id": "LS21osZJhZ-A"
      },
      "execution_count": null,
      "outputs": []
    }
  ]
}